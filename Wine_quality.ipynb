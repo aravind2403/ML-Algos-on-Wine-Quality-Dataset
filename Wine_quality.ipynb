{
  "nbformat": 4,
  "nbformat_minor": 0,
  "metadata": {
    "colab": {
      "name": "Wine_quality",
      "version": "0.3.2",
      "views": {},
      "default_view": {},
      "provenance": []
    },
    "kernelspec": {
      "name": "python3",
      "display_name": "Python 3"
    }
  },
  "cells": [
    {
      "metadata": {
        "id": "FJmCSjWUZUYd",
        "colab_type": "text"
      },
      "cell_type": "markdown",
      "source": [
        "TO DO : separate class wise and take equal number of classes or combine 3 and 4 and test on the remaining. \n",
        "\n",
        "Deal with the class Imbalance problem"
      ]
    },
    {
      "metadata": {
        "id": "XzH7NkDrz0jg",
        "colab_type": "code",
        "colab": {
          "autoexec": {
            "startup": false,
            "wait_interval": 0
          },
          "resources": {
            "http://localhost:8080/nbextensions/google.colab/files.js": {
              "data": "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",
              "ok": true,
              "headers": [
                [
                  "content-type",
                  "application/javascript"
                ]
              ],
              "status": 200,
              "status_text": ""
            }
          },
          "base_uri": "https://localhost:8080/",
          "height": 73
        },
        "outputId": "e8747932-8283-4a7b-cd11-f67dbeac79c6",
        "executionInfo": {
          "status": "ok",
          "timestamp": 1527044869304,
          "user_tz": 420,
          "elapsed": 9975,
          "user": {
            "displayName": "Aravind Shanmugam",
            "photoUrl": "//lh6.googleusercontent.com/-_XjpUosSEHA/AAAAAAAAAAI/AAAAAAAABA0/uAWQVyYb8sg/s50-c-k-no/photo.jpg",
            "userId": "112465109968057340331"
          }
        }
      },
      "cell_type": "code",
      "source": [
        "from google.colab import files\n",
        "uploaded = files.upload()"
      ],
      "execution_count": 2,
      "outputs": [
        {
          "output_type": "display_data",
          "data": {
            "text/html": [
              "\n",
              "     <input type=\"file\" id=\"files-75ce5348-af2f-4726-9e67-051a4a3c8b0a\" name=\"files[]\" multiple disabled />\n",
              "     <output id=\"result-75ce5348-af2f-4726-9e67-051a4a3c8b0a\">\n",
              "      Upload widget is only available when the cell has been executed in the\n",
              "      current browser session. Please rerun this cell to enable.\n",
              "      </output>\n",
              "      <script src=\"/nbextensions/google.colab/files.js\"></script> "
            ],
            "text/plain": [
              "<IPython.core.display.HTML object>"
            ]
          },
          "metadata": {
            "tags": []
          }
        },
        {
          "output_type": "stream",
          "text": [
            "Saving winequality-white.csv to winequality-white.csv\n"
          ],
          "name": "stdout"
        }
      ]
    },
    {
      "metadata": {
        "id": "P6NR_Wjp2YaE",
        "colab_type": "code",
        "colab": {
          "autoexec": {
            "startup": false,
            "wait_interval": 0
          }
        }
      },
      "cell_type": "code",
      "source": [
        "import pandas as pd\n",
        "import numpy as np\n",
        "import matplotlib.pyplot as plt\n",
        "from sklearn.model_selection import train_test_split\n",
        "from sklearn import linear_model\n",
        "import seaborn as sns\n",
        "from sklearn import  metrics\n",
        "from sklearn import preprocessing"
      ],
      "execution_count": 0,
      "outputs": []
    },
    {
      "metadata": {
        "id": "SU7dRMg02qAI",
        "colab_type": "code",
        "colab": {
          "autoexec": {
            "startup": false,
            "wait_interval": 0
          }
        }
      },
      "cell_type": "code",
      "source": [
        "white_data = pd.read_csv('winequality-white.csv', sep = \",\")"
      ],
      "execution_count": 0,
      "outputs": []
    },
    {
      "metadata": {
        "id": "P1c1xhwX-AFa",
        "colab_type": "code",
        "colab": {
          "autoexec": {
            "startup": false,
            "wait_interval": 0
          }
        }
      },
      "cell_type": "code",
      "source": [
        "white_data['quality'] = white_data['quality'].astype(object)"
      ],
      "execution_count": 0,
      "outputs": []
    },
    {
      "metadata": {
        "id": "6JZznkSO2_iJ",
        "colab_type": "code",
        "colab": {
          "autoexec": {
            "startup": false,
            "wait_interval": 0
          }
        }
      },
      "cell_type": "code",
      "source": [
        "white_data['quality'] = white_data['quality'].astype(int)\n",
        "white_data = pd.get_dummies(white_data, columns=['quality'])"
      ],
      "execution_count": 0,
      "outputs": []
    },
    {
      "metadata": {
        "id": "BORYhStS-MDr",
        "colab_type": "code",
        "colab": {
          "autoexec": {
            "startup": false,
            "wait_interval": 0
          }
        }
      },
      "cell_type": "code",
      "source": [
        "train_data = white_data.iloc[:,0:11].values # first columns\n",
        "train_labels = white_data.iloc[:,12:].values # last columns"
      ],
      "execution_count": 0,
      "outputs": []
    },
    {
      "metadata": {
        "id": "8mJW2RduBanf",
        "colab_type": "code",
        "colab": {
          "autoexec": {
            "startup": false,
            "wait_interval": 0
          }
        }
      },
      "cell_type": "code",
      "source": [
        "train_data = preprocessing.normalize(train_data, axis=0)"
      ],
      "execution_count": 0,
      "outputs": []
    },
    {
      "metadata": {
        "id": "G0k2YFdw3JGT",
        "colab_type": "code",
        "colab": {
          "autoexec": {
            "startup": false,
            "wait_interval": 0
          }
        }
      },
      "cell_type": "code",
      "source": [
        "train_data, test_data, train_value, test_value = train_test_split(train_data, train_labels, test_size = 0.33, random_state=42)"
      ],
      "execution_count": 0,
      "outputs": []
    },
    {
      "metadata": {
        "id": "RtRZ0D7wCZkZ",
        "colab_type": "code",
        "colab": {
          "autoexec": {
            "startup": false,
            "wait_interval": 0
          },
          "base_uri": "https://localhost:8080/",
          "height": 35
        },
        "outputId": "afe8a53a-a418-4ec5-a964-2a91ceaa7e0c",
        "executionInfo": {
          "status": "ok",
          "timestamp": 1527046946366,
          "user_tz": 420,
          "elapsed": 553,
          "user": {
            "displayName": "Aravind Shanmugam",
            "photoUrl": "//lh6.googleusercontent.com/-_XjpUosSEHA/AAAAAAAAAAI/AAAAAAAABA0/uAWQVyYb8sg/s50-c-k-no/photo.jpg",
            "userId": "112465109968057340331"
          }
        }
      },
      "cell_type": "code",
      "source": [
        "print(train_data.shape, test_data.shape, train_value.shape, test_value.shape)"
      ],
      "execution_count": 77,
      "outputs": [
        {
          "output_type": "stream",
          "text": [
            "(3281, 11) (1617, 11) (3281, 6) (1617, 6)\n"
          ],
          "name": "stdout"
        }
      ]
    },
    {
      "metadata": {
        "id": "E3WZBKRuEEuO",
        "colab_type": "code",
        "colab": {
          "autoexec": {
            "startup": false,
            "wait_interval": 0
          }
        }
      },
      "cell_type": "code",
      "source": [
        "from sklearn.decomposition import PCA\n",
        "pca = PCA(n_components=10)\n",
        "data = pca.fit_transform(train_data)"
      ],
      "execution_count": 0,
      "outputs": []
    },
    {
      "metadata": {
        "id": "z8-705dsFVYc",
        "colab_type": "code",
        "colab": {
          "autoexec": {
            "startup": false,
            "wait_interval": 0
          }
        }
      },
      "cell_type": "code",
      "source": [
        "test_data = pca.fit_transform(test_data)"
      ],
      "execution_count": 0,
      "outputs": []
    },
    {
      "metadata": {
        "id": "ufDnSjk23LBp",
        "colab_type": "code",
        "colab": {
          "autoexec": {
            "startup": false,
            "wait_interval": 0
          }
        }
      },
      "cell_type": "code",
      "source": [
        "\n",
        "from keras import layers, optimizers, regularizers\n",
        "from keras.layers import Dense, Dropout, BatchNormalization, Activation\n",
        "from keras.models import Sequential\n",
        "# fix random seed for reproducibility\n",
        "np.random.seed(7)"
      ],
      "execution_count": 0,
      "outputs": []
    },
    {
      "metadata": {
        "id": "u_qI5BqYBXTy",
        "colab_type": "code",
        "colab": {
          "autoexec": {
            "startup": false,
            "wait_interval": 0
          }
        }
      },
      "cell_type": "code",
      "source": [
        "winemod1 = Sequential()\n",
        "# layer 1\n",
        "winemod1.add(Dense(32, input_dim=11, activation='relu', name='fc0',kernel_regularizer=regularizers.l2(0.01)))\n",
        "winemod1.add(BatchNormalization(momentum=0.99, epsilon=0.001))\n",
        "#layer 2\n",
        "winemod1.add(Dense(64, name='fc1',bias_initializer='zeros'))\n",
        "winemod1.add(BatchNormalization(momentum=0.99, epsilon=0.001))\n",
        "winemod1.add(Activation('tanh'))\n",
        "winemod1.add(Dropout(0.3))\n",
        "#layer 3\n",
        "winemod1.add(Dense(128, name='fc2',bias_initializer='zeros'))\n",
        "winemod1.add(BatchNormalization(momentum=0.99, epsilon=0.001))\n",
        "winemod1.add(Activation('relu'))\n",
        "winemod1.add(Dropout(0.3))\n",
        "#layer 4\n",
        "winemod1.add(Dense(6, name='fc3',bias_initializer='zeros'))\n",
        "winemod1.add(BatchNormalization(momentum=0.99, epsilon=0.001))\n",
        "winemod1.add(Activation('softmax'))\n"
      ],
      "execution_count": 0,
      "outputs": []
    },
    {
      "metadata": {
        "id": "aJr-7x5_CWjM",
        "colab_type": "code",
        "colab": {
          "autoexec": {
            "startup": false,
            "wait_interval": 0
          },
          "base_uri": "https://localhost:8080/",
          "height": 617
        },
        "outputId": "799403d9-45ab-4175-a52d-6f287a618f62",
        "executionInfo": {
          "status": "ok",
          "timestamp": 1527047285119,
          "user_tz": 420,
          "elapsed": 553,
          "user": {
            "displayName": "Aravind Shanmugam",
            "photoUrl": "//lh6.googleusercontent.com/-_XjpUosSEHA/AAAAAAAAAAI/AAAAAAAABA0/uAWQVyYb8sg/s50-c-k-no/photo.jpg",
            "userId": "112465109968057340331"
          }
        }
      },
      "cell_type": "code",
      "source": [
        "winemod1.summary()"
      ],
      "execution_count": 90,
      "outputs": [
        {
          "output_type": "stream",
          "text": [
            "_________________________________________________________________\n",
            "Layer (type)                 Output Shape              Param #   \n",
            "=================================================================\n",
            "fc0 (Dense)                  (None, 32)                384       \n",
            "_________________________________________________________________\n",
            "batch_normalization_25 (Batc (None, 32)                128       \n",
            "_________________________________________________________________\n",
            "fc1 (Dense)                  (None, 64)                2112      \n",
            "_________________________________________________________________\n",
            "batch_normalization_26 (Batc (None, 64)                256       \n",
            "_________________________________________________________________\n",
            "activation_19 (Activation)   (None, 64)                0         \n",
            "_________________________________________________________________\n",
            "dropout_13 (Dropout)         (None, 64)                0         \n",
            "_________________________________________________________________\n",
            "fc2 (Dense)                  (None, 128)               8320      \n",
            "_________________________________________________________________\n",
            "batch_normalization_27 (Batc (None, 128)               512       \n",
            "_________________________________________________________________\n",
            "activation_20 (Activation)   (None, 128)               0         \n",
            "_________________________________________________________________\n",
            "dropout_14 (Dropout)         (None, 128)               0         \n",
            "_________________________________________________________________\n",
            "fc3 (Dense)                  (None, 6)                 774       \n",
            "_________________________________________________________________\n",
            "batch_normalization_28 (Batc (None, 6)                 24        \n",
            "_________________________________________________________________\n",
            "activation_21 (Activation)   (None, 6)                 0         \n",
            "=================================================================\n",
            "Total params: 12,510\n",
            "Trainable params: 12,050\n",
            "Non-trainable params: 460\n",
            "_________________________________________________________________\n"
          ],
          "name": "stdout"
        }
      ]
    },
    {
      "metadata": {
        "id": "1-m_sHPJCn49",
        "colab_type": "code",
        "colab": {
          "autoexec": {
            "startup": false,
            "wait_interval": 0
          }
        }
      },
      "cell_type": "code",
      "source": [
        "Adam = optimizers.Adam(lr=0.001, beta_1=0.9, beta_2=0.999, epsilon=1e-08, decay=0.0)\n",
        "winemod1.compile(optimizer = Adam, loss = \"categorical_crossentropy\", metrics = [\"categorical_accuracy\"])"
      ],
      "execution_count": 0,
      "outputs": []
    },
    {
      "metadata": {
        "id": "JocIfXcdBm3U",
        "colab_type": "code",
        "colab": {
          "autoexec": {
            "startup": false,
            "wait_interval": 0
          },
          "base_uri": "https://localhost:8080/",
          "height": 7346
        },
        "outputId": "5d542dfa-c235-4730-83ff-8df6b41d0f83",
        "executionInfo": {
          "status": "ok",
          "timestamp": 1527047353411,
          "user_tz": 420,
          "elapsed": 53318,
          "user": {
            "displayName": "Aravind Shanmugam",
            "photoUrl": "//lh6.googleusercontent.com/-_XjpUosSEHA/AAAAAAAAAAI/AAAAAAAABA0/uAWQVyYb8sg/s50-c-k-no/photo.jpg",
            "userId": "112465109968057340331"
          }
        }
      },
      "cell_type": "code",
      "source": [
        "# Fit the model\n",
        "winemod1.fit(train_data, train_value, epochs=200, batch_size=64, validation_data=(test_data, test_value))"
      ],
      "execution_count": 93,
      "outputs": [
        {
          "output_type": "stream",
          "text": [
            "Train on 3281 samples, validate on 1617 samples\n",
            "Epoch 1/200\n",
            "3281/3281 [==============================] - 2s 617us/step - loss: 2.0416 - categorical_accuracy: 0.2490 - val_loss: 2.2129 - val_categorical_accuracy: 0.1694\n",
            "Epoch 2/200\n",
            "3281/3281 [==============================] - 0s 76us/step - loss: 1.7601 - categorical_accuracy: 0.3737 - val_loss: 1.7634 - val_categorical_accuracy: 0.4162\n",
            "Epoch 3/200\n",
            "3281/3281 [==============================] - 0s 71us/step - loss: 1.6703 - categorical_accuracy: 0.4230 - val_loss: 1.6198 - val_categorical_accuracy: 0.4774\n",
            "Epoch 4/200\n",
            "3281/3281 [==============================] - 0s 74us/step - loss: 1.5947 - categorical_accuracy: 0.4547 - val_loss: 1.5622 - val_categorical_accuracy: 0.5207\n",
            "Epoch 5/200\n",
            "3281/3281 [==============================] - 0s 72us/step - loss: 1.5436 - categorical_accuracy: 0.4752 - val_loss: 1.4920 - val_categorical_accuracy: 0.4719\n",
            "Epoch 6/200\n",
            "3281/3281 [==============================] - 0s 72us/step - loss: 1.4898 - categorical_accuracy: 0.4877 - val_loss: 1.5156 - val_categorical_accuracy: 0.4150\n",
            "Epoch 7/200\n",
            "3281/3281 [==============================] - 0s 71us/step - loss: 1.4559 - categorical_accuracy: 0.5035 - val_loss: 1.4952 - val_categorical_accuracy: 0.4966\n",
            "Epoch 8/200\n",
            "3281/3281 [==============================] - 0s 75us/step - loss: 1.4157 - categorical_accuracy: 0.5090 - val_loss: 1.8390 - val_categorical_accuracy: 0.2888\n",
            "Epoch 9/200\n",
            "3281/3281 [==============================] - 0s 71us/step - loss: 1.3860 - categorical_accuracy: 0.5081 - val_loss: 1.4730 - val_categorical_accuracy: 0.4644\n",
            "Epoch 10/200\n",
            "3281/3281 [==============================] - 0s 74us/step - loss: 1.3585 - categorical_accuracy: 0.5233 - val_loss: 1.5181 - val_categorical_accuracy: 0.4391\n",
            "Epoch 11/200\n",
            "3281/3281 [==============================] - 0s 71us/step - loss: 1.3375 - categorical_accuracy: 0.5212 - val_loss: 1.3813 - val_categorical_accuracy: 0.5040\n",
            "Epoch 12/200\n",
            "3281/3281 [==============================] - 0s 71us/step - loss: 1.3096 - categorical_accuracy: 0.5343 - val_loss: 1.3544 - val_categorical_accuracy: 0.4830\n",
            "Epoch 13/200\n",
            "3281/3281 [==============================] - 0s 75us/step - loss: 1.2966 - categorical_accuracy: 0.5273 - val_loss: 1.5472 - val_categorical_accuracy: 0.4026\n",
            "Epoch 14/200\n",
            "3281/3281 [==============================] - 0s 73us/step - loss: 1.2778 - categorical_accuracy: 0.5291 - val_loss: 1.4083 - val_categorical_accuracy: 0.4459\n",
            "Epoch 15/200\n",
            "1664/3281 [==============>...............] - ETA: 0s - loss: 1.2653 - categorical_accuracy: 0.5228"
          ],
          "name": "stdout"
        },
        {
          "output_type": "stream",
          "text": [
            "3281/3281 [==============================] - 0s 73us/step - loss: 1.2615 - categorical_accuracy: 0.5206 - val_loss: 1.3260 - val_categorical_accuracy: 0.4824\n",
            "Epoch 16/200\n",
            "3281/3281 [==============================] - 0s 74us/step - loss: 1.2410 - categorical_accuracy: 0.5306 - val_loss: 1.2904 - val_categorical_accuracy: 0.4886\n",
            "Epoch 17/200\n",
            "3281/3281 [==============================] - 0s 72us/step - loss: 1.2354 - categorical_accuracy: 0.5340 - val_loss: 1.2477 - val_categorical_accuracy: 0.5003\n",
            "Epoch 18/200\n",
            "3281/3281 [==============================] - 0s 75us/step - loss: 1.2203 - categorical_accuracy: 0.5404 - val_loss: 1.2147 - val_categorical_accuracy: 0.5250\n",
            "Epoch 19/200\n",
            "3281/3281 [==============================] - 0s 72us/step - loss: 1.2054 - categorical_accuracy: 0.5419 - val_loss: 1.2882 - val_categorical_accuracy: 0.4793\n",
            "Epoch 20/200\n",
            "3281/3281 [==============================] - 0s 75us/step - loss: 1.2000 - categorical_accuracy: 0.5288 - val_loss: 1.1650 - val_categorical_accuracy: 0.5374\n",
            "Epoch 21/200\n",
            "3281/3281 [==============================] - 0s 74us/step - loss: 1.1832 - categorical_accuracy: 0.5413 - val_loss: 1.3151 - val_categorical_accuracy: 0.4799\n",
            "Epoch 22/200\n",
            "3281/3281 [==============================] - 0s 74us/step - loss: 1.1775 - categorical_accuracy: 0.5425 - val_loss: 1.4694 - val_categorical_accuracy: 0.3847\n",
            "Epoch 23/200\n",
            "3281/3281 [==============================] - 0s 73us/step - loss: 1.1667 - categorical_accuracy: 0.5428 - val_loss: 1.4076 - val_categorical_accuracy: 0.4273\n",
            "Epoch 24/200\n",
            "3281/3281 [==============================] - 0s 73us/step - loss: 1.1514 - categorical_accuracy: 0.5450 - val_loss: 1.3207 - val_categorical_accuracy: 0.4644\n",
            "Epoch 25/200\n",
            "3281/3281 [==============================] - 0s 72us/step - loss: 1.1524 - categorical_accuracy: 0.5379 - val_loss: 1.2250 - val_categorical_accuracy: 0.5053\n",
            "Epoch 26/200\n",
            "3281/3281 [==============================] - 0s 71us/step - loss: 1.1349 - categorical_accuracy: 0.5431 - val_loss: 1.1905 - val_categorical_accuracy: 0.5065\n",
            "Epoch 27/200\n",
            "3281/3281 [==============================] - 0s 76us/step - loss: 1.1317 - categorical_accuracy: 0.5520 - val_loss: 1.1279 - val_categorical_accuracy: 0.5405\n",
            "Epoch 28/200\n",
            "3281/3281 [==============================] - 0s 71us/step - loss: 1.1291 - categorical_accuracy: 0.5468 - val_loss: 1.1074 - val_categorical_accuracy: 0.5380\n",
            "Epoch 29/200\n",
            "3281/3281 [==============================] - 0s 72us/step - loss: 1.1250 - categorical_accuracy: 0.5447 - val_loss: 1.1449 - val_categorical_accuracy: 0.5059\n"
          ],
          "name": "stdout"
        },
        {
          "output_type": "stream",
          "text": [
            "Epoch 30/200\n",
            "3281/3281 [==============================] - 0s 73us/step - loss: 1.1133 - categorical_accuracy: 0.5608 - val_loss: 1.1269 - val_categorical_accuracy: 0.5232\n",
            "Epoch 31/200\n",
            "3281/3281 [==============================] - 0s 76us/step - loss: 1.1123 - categorical_accuracy: 0.5547 - val_loss: 1.1485 - val_categorical_accuracy: 0.5281\n",
            "Epoch 32/200\n",
            "3281/3281 [==============================] - 0s 71us/step - loss: 1.1081 - categorical_accuracy: 0.5511 - val_loss: 1.2045 - val_categorical_accuracy: 0.4904\n",
            "Epoch 33/200\n",
            "3281/3281 [==============================] - 0s 74us/step - loss: 1.1031 - categorical_accuracy: 0.5401 - val_loss: 1.0857 - val_categorical_accuracy: 0.5405\n",
            "Epoch 34/200\n",
            "3281/3281 [==============================] - 0s 75us/step - loss: 1.1016 - categorical_accuracy: 0.5443 - val_loss: 1.2479 - val_categorical_accuracy: 0.4601\n",
            "Epoch 35/200\n",
            "3281/3281 [==============================] - 0s 76us/step - loss: 1.0919 - categorical_accuracy: 0.5514 - val_loss: 1.0955 - val_categorical_accuracy: 0.5232\n",
            "Epoch 36/200\n",
            "3281/3281 [==============================] - 0s 73us/step - loss: 1.0837 - categorical_accuracy: 0.5529 - val_loss: 1.1017 - val_categorical_accuracy: 0.5139\n",
            "Epoch 37/200\n",
            "3281/3281 [==============================] - 0s 72us/step - loss: 1.0832 - categorical_accuracy: 0.5562 - val_loss: 1.0979 - val_categorical_accuracy: 0.5288\n",
            "Epoch 38/200\n",
            "3281/3281 [==============================] - 0s 73us/step - loss: 1.0823 - categorical_accuracy: 0.5571 - val_loss: 1.0997 - val_categorical_accuracy: 0.5257\n",
            "Epoch 39/200\n",
            "3281/3281 [==============================] - 0s 73us/step - loss: 1.0875 - categorical_accuracy: 0.5437 - val_loss: 1.3952 - val_categorical_accuracy: 0.4539\n",
            "Epoch 40/200\n",
            "3281/3281 [==============================] - 0s 76us/step - loss: 1.0758 - categorical_accuracy: 0.5559 - val_loss: 1.3083 - val_categorical_accuracy: 0.4533\n",
            "Epoch 41/200\n",
            "3281/3281 [==============================] - 0s 73us/step - loss: 1.0717 - categorical_accuracy: 0.5559 - val_loss: 1.4976 - val_categorical_accuracy: 0.4521\n",
            "Epoch 42/200\n",
            "3281/3281 [==============================] - 0s 80us/step - loss: 1.0679 - categorical_accuracy: 0.5523 - val_loss: 1.3589 - val_categorical_accuracy: 0.4552\n",
            "Epoch 43/200\n",
            "3281/3281 [==============================] - 0s 73us/step - loss: 1.0761 - categorical_accuracy: 0.5529 - val_loss: 1.2024 - val_categorical_accuracy: 0.4700\n",
            "Epoch 44/200\n",
            "1920/3281 [================>.............] - ETA: 0s - loss: 1.0700 - categorical_accuracy: 0.5542"
          ],
          "name": "stdout"
        },
        {
          "output_type": "stream",
          "text": [
            "3281/3281 [==============================] - 0s 71us/step - loss: 1.0702 - categorical_accuracy: 0.5584 - val_loss: 1.1152 - val_categorical_accuracy: 0.5028\n",
            "Epoch 45/200\n",
            "3281/3281 [==============================] - 0s 73us/step - loss: 1.0660 - categorical_accuracy: 0.5623 - val_loss: 1.1019 - val_categorical_accuracy: 0.5071\n",
            "Epoch 46/200\n",
            "3281/3281 [==============================] - 0s 73us/step - loss: 1.0724 - categorical_accuracy: 0.5553 - val_loss: 1.0843 - val_categorical_accuracy: 0.5145\n",
            "Epoch 47/200\n",
            "3281/3281 [==============================] - 0s 73us/step - loss: 1.0559 - categorical_accuracy: 0.5596 - val_loss: 1.0855 - val_categorical_accuracy: 0.5108\n",
            "Epoch 48/200\n",
            "3281/3281 [==============================] - 0s 75us/step - loss: 1.0625 - categorical_accuracy: 0.5547 - val_loss: 1.1047 - val_categorical_accuracy: 0.5201\n",
            "Epoch 49/200\n",
            "3281/3281 [==============================] - 0s 70us/step - loss: 1.0628 - categorical_accuracy: 0.5669 - val_loss: 1.0944 - val_categorical_accuracy: 0.5220\n",
            "Epoch 50/200\n",
            "3281/3281 [==============================] - 0s 73us/step - loss: 1.0569 - categorical_accuracy: 0.5571 - val_loss: 1.1465 - val_categorical_accuracy: 0.4991\n",
            "Epoch 51/200\n",
            "3281/3281 [==============================] - 0s 72us/step - loss: 1.0519 - categorical_accuracy: 0.5568 - val_loss: 1.0682 - val_categorical_accuracy: 0.5362\n",
            "Epoch 52/200\n",
            "3281/3281 [==============================] - 0s 74us/step - loss: 1.0516 - categorical_accuracy: 0.5477 - val_loss: 1.0898 - val_categorical_accuracy: 0.5220\n",
            "Epoch 53/200\n",
            "3281/3281 [==============================] - 0s 70us/step - loss: 1.0450 - categorical_accuracy: 0.5657 - val_loss: 1.3632 - val_categorical_accuracy: 0.3717\n",
            "Epoch 54/200\n",
            "3281/3281 [==============================] - 0s 70us/step - loss: 1.0501 - categorical_accuracy: 0.5553 - val_loss: 1.2072 - val_categorical_accuracy: 0.5257\n",
            "Epoch 55/200\n",
            "3281/3281 [==============================] - 0s 71us/step - loss: 1.0492 - categorical_accuracy: 0.5514 - val_loss: 1.1403 - val_categorical_accuracy: 0.5133\n",
            "Epoch 56/200\n",
            "3281/3281 [==============================] - 0s 72us/step - loss: 1.0418 - categorical_accuracy: 0.5632 - val_loss: 1.1190 - val_categorical_accuracy: 0.4978\n",
            "Epoch 57/200\n",
            "3281/3281 [==============================] - 0s 73us/step - loss: 1.0465 - categorical_accuracy: 0.5660 - val_loss: 1.0688 - val_categorical_accuracy: 0.5380\n",
            "Epoch 58/200\n",
            "3281/3281 [==============================] - 0s 71us/step - loss: 1.0396 - categorical_accuracy: 0.5672 - val_loss: 1.1046 - val_categorical_accuracy: 0.5046\n"
          ],
          "name": "stdout"
        },
        {
          "output_type": "stream",
          "text": [
            "Epoch 59/200\n",
            "3281/3281 [==============================] - 0s 77us/step - loss: 1.0489 - categorical_accuracy: 0.5575 - val_loss: 1.0464 - val_categorical_accuracy: 0.5318\n",
            "Epoch 60/200\n",
            "3281/3281 [==============================] - 0s 75us/step - loss: 1.0362 - categorical_accuracy: 0.5672 - val_loss: 1.0469 - val_categorical_accuracy: 0.5343\n",
            "Epoch 61/200\n",
            "3281/3281 [==============================] - 0s 75us/step - loss: 1.0417 - categorical_accuracy: 0.5562 - val_loss: 1.0994 - val_categorical_accuracy: 0.5442\n",
            "Epoch 62/200\n",
            "3281/3281 [==============================] - 0s 74us/step - loss: 1.0359 - categorical_accuracy: 0.5635 - val_loss: 1.0484 - val_categorical_accuracy: 0.5448\n",
            "Epoch 63/200\n",
            "3281/3281 [==============================] - 0s 71us/step - loss: 1.0350 - categorical_accuracy: 0.5620 - val_loss: 1.0491 - val_categorical_accuracy: 0.5294\n",
            "Epoch 64/200\n",
            "3281/3281 [==============================] - 0s 73us/step - loss: 1.0372 - categorical_accuracy: 0.5584 - val_loss: 1.0493 - val_categorical_accuracy: 0.5349\n",
            "Epoch 65/200\n",
            "3281/3281 [==============================] - 0s 71us/step - loss: 1.0405 - categorical_accuracy: 0.5648 - val_loss: 1.1701 - val_categorical_accuracy: 0.5139\n",
            "Epoch 66/200\n",
            "3281/3281 [==============================] - 0s 74us/step - loss: 1.0397 - categorical_accuracy: 0.5553 - val_loss: 1.0544 - val_categorical_accuracy: 0.5195\n",
            "Epoch 67/200\n",
            "3281/3281 [==============================] - 0s 74us/step - loss: 1.0314 - categorical_accuracy: 0.5559 - val_loss: 1.0495 - val_categorical_accuracy: 0.5288\n",
            "Epoch 68/200\n",
            "3281/3281 [==============================] - 0s 72us/step - loss: 1.0294 - categorical_accuracy: 0.5614 - val_loss: 1.0629 - val_categorical_accuracy: 0.5182\n",
            "Epoch 69/200\n",
            "3281/3281 [==============================] - 0s 72us/step - loss: 1.0313 - categorical_accuracy: 0.5715 - val_loss: 1.0429 - val_categorical_accuracy: 0.5362\n",
            "Epoch 70/200\n",
            "3281/3281 [==============================] - 0s 74us/step - loss: 1.0253 - categorical_accuracy: 0.5663 - val_loss: 1.1032 - val_categorical_accuracy: 0.5257\n",
            "Epoch 71/200\n",
            "3281/3281 [==============================] - 0s 81us/step - loss: 1.0282 - categorical_accuracy: 0.5730 - val_loss: 1.0551 - val_categorical_accuracy: 0.5220\n",
            "Epoch 72/200\n",
            "3281/3281 [==============================] - 0s 85us/step - loss: 1.0400 - categorical_accuracy: 0.5620 - val_loss: 1.1624 - val_categorical_accuracy: 0.4700\n",
            "Epoch 73/200\n",
            "1792/3281 [===============>..............] - ETA: 0s - loss: 1.0242 - categorical_accuracy: 0.5664"
          ],
          "name": "stdout"
        },
        {
          "output_type": "stream",
          "text": [
            "3281/3281 [==============================] - 0s 74us/step - loss: 1.0326 - categorical_accuracy: 0.5648 - val_loss: 1.0555 - val_categorical_accuracy: 0.5164\n",
            "Epoch 74/200\n",
            "3281/3281 [==============================] - 0s 73us/step - loss: 1.0333 - categorical_accuracy: 0.5666 - val_loss: 1.0383 - val_categorical_accuracy: 0.5399\n",
            "Epoch 75/200\n",
            "3281/3281 [==============================] - 0s 73us/step - loss: 1.0333 - categorical_accuracy: 0.5553 - val_loss: 1.0652 - val_categorical_accuracy: 0.5102\n",
            "Epoch 76/200\n",
            "3281/3281 [==============================] - 0s 73us/step - loss: 1.0280 - categorical_accuracy: 0.5608 - val_loss: 1.0384 - val_categorical_accuracy: 0.5325\n",
            "Epoch 77/200\n",
            "3281/3281 [==============================] - 0s 77us/step - loss: 1.0218 - categorical_accuracy: 0.5678 - val_loss: 1.0771 - val_categorical_accuracy: 0.5133\n",
            "Epoch 78/200\n",
            "3281/3281 [==============================] - 0s 75us/step - loss: 1.0308 - categorical_accuracy: 0.5599 - val_loss: 1.0351 - val_categorical_accuracy: 0.5318\n",
            "Epoch 79/200\n",
            "3281/3281 [==============================] - 0s 75us/step - loss: 1.0239 - categorical_accuracy: 0.5596 - val_loss: 1.0337 - val_categorical_accuracy: 0.5430\n",
            "Epoch 80/200\n",
            "3281/3281 [==============================] - 0s 77us/step - loss: 1.0317 - categorical_accuracy: 0.5648 - val_loss: 1.0449 - val_categorical_accuracy: 0.5250\n",
            "Epoch 81/200\n",
            "3281/3281 [==============================] - 0s 77us/step - loss: 1.0176 - categorical_accuracy: 0.5666 - val_loss: 1.0392 - val_categorical_accuracy: 0.5362\n",
            "Epoch 82/200\n",
            "3281/3281 [==============================] - 0s 72us/step - loss: 1.0289 - categorical_accuracy: 0.5608 - val_loss: 1.0469 - val_categorical_accuracy: 0.5473\n",
            "Epoch 83/200\n",
            "3281/3281 [==============================] - 0s 79us/step - loss: 1.0191 - categorical_accuracy: 0.5639 - val_loss: 1.0504 - val_categorical_accuracy: 0.5485\n",
            "Epoch 84/200\n",
            "3281/3281 [==============================] - 0s 74us/step - loss: 1.0260 - categorical_accuracy: 0.5602 - val_loss: 1.0439 - val_categorical_accuracy: 0.5504\n",
            "Epoch 85/200\n",
            "3281/3281 [==============================] - 0s 78us/step - loss: 1.0182 - categorical_accuracy: 0.5632 - val_loss: 1.0321 - val_categorical_accuracy: 0.5461\n",
            "Epoch 86/200\n",
            "3281/3281 [==============================] - 0s 72us/step - loss: 1.0206 - categorical_accuracy: 0.5596 - val_loss: 1.0371 - val_categorical_accuracy: 0.5516\n",
            "Epoch 87/200\n",
            " 960/3281 [=======>......................] - ETA: 0s - loss: 0.9926 - categorical_accuracy: 0.5635"
          ],
          "name": "stdout"
        },
        {
          "output_type": "stream",
          "text": [
            "3281/3281 [==============================] - 0s 75us/step - loss: 1.0233 - categorical_accuracy: 0.5590 - val_loss: 1.0468 - val_categorical_accuracy: 0.5529\n",
            "Epoch 88/200\n",
            "3281/3281 [==============================] - 0s 73us/step - loss: 1.0253 - categorical_accuracy: 0.5611 - val_loss: 1.0370 - val_categorical_accuracy: 0.5430\n",
            "Epoch 89/200\n",
            "3281/3281 [==============================] - 0s 74us/step - loss: 1.0191 - categorical_accuracy: 0.5626 - val_loss: 1.0487 - val_categorical_accuracy: 0.5442\n",
            "Epoch 90/200\n",
            "3281/3281 [==============================] - 0s 73us/step - loss: 1.0150 - categorical_accuracy: 0.5642 - val_loss: 1.0356 - val_categorical_accuracy: 0.5411\n",
            "Epoch 91/200\n",
            "3281/3281 [==============================] - 0s 75us/step - loss: 1.0208 - categorical_accuracy: 0.5608 - val_loss: 1.0371 - val_categorical_accuracy: 0.5349\n",
            "Epoch 92/200\n",
            "3281/3281 [==============================] - 0s 77us/step - loss: 1.0192 - categorical_accuracy: 0.5687 - val_loss: 1.0348 - val_categorical_accuracy: 0.5405\n",
            "Epoch 93/200\n",
            "3281/3281 [==============================] - 0s 72us/step - loss: 1.0081 - categorical_accuracy: 0.5645 - val_loss: 1.0479 - val_categorical_accuracy: 0.5349\n",
            "Epoch 94/200\n",
            "3281/3281 [==============================] - 0s 71us/step - loss: 1.0165 - categorical_accuracy: 0.5751 - val_loss: 1.1505 - val_categorical_accuracy: 0.5281\n",
            "Epoch 95/200\n",
            "3281/3281 [==============================] - 0s 72us/step - loss: 1.0169 - categorical_accuracy: 0.5675 - val_loss: 1.0917 - val_categorical_accuracy: 0.5306\n",
            "Epoch 96/200\n",
            "3281/3281 [==============================] - 0s 77us/step - loss: 1.0179 - categorical_accuracy: 0.5672 - val_loss: 1.0372 - val_categorical_accuracy: 0.5374\n",
            "Epoch 97/200\n",
            "3281/3281 [==============================] - 0s 74us/step - loss: 1.0189 - categorical_accuracy: 0.5596 - val_loss: 1.0429 - val_categorical_accuracy: 0.5393\n",
            "Epoch 98/200\n",
            "3281/3281 [==============================] - 0s 78us/step - loss: 1.0120 - categorical_accuracy: 0.5724 - val_loss: 1.0548 - val_categorical_accuracy: 0.5424\n",
            "Epoch 99/200\n",
            "3281/3281 [==============================] - 0s 80us/step - loss: 1.0124 - categorical_accuracy: 0.5639 - val_loss: 1.2276 - val_categorical_accuracy: 0.4787\n",
            "Epoch 100/200\n",
            "3281/3281 [==============================] - 0s 79us/step - loss: 1.0062 - categorical_accuracy: 0.5709 - val_loss: 1.1918 - val_categorical_accuracy: 0.4836\n",
            "Epoch 101/200\n",
            "  64/3281 [..............................] - ETA: 0s - loss: 1.0991 - categorical_accuracy: 0.4844"
          ],
          "name": "stdout"
        },
        {
          "output_type": "stream",
          "text": [
            "3281/3281 [==============================] - 0s 73us/step - loss: 1.0063 - categorical_accuracy: 0.5684 - val_loss: 1.1685 - val_categorical_accuracy: 0.5015\n",
            "Epoch 102/200\n",
            "3281/3281 [==============================] - 0s 73us/step - loss: 1.0182 - categorical_accuracy: 0.5626 - val_loss: 1.0803 - val_categorical_accuracy: 0.5269\n",
            "Epoch 103/200\n",
            "3281/3281 [==============================] - 0s 76us/step - loss: 1.0115 - categorical_accuracy: 0.5596 - val_loss: 1.1349 - val_categorical_accuracy: 0.5114\n",
            "Epoch 104/200\n",
            "3281/3281 [==============================] - 0s 72us/step - loss: 1.0190 - categorical_accuracy: 0.5632 - val_loss: 1.1084 - val_categorical_accuracy: 0.5294\n",
            "Epoch 105/200\n",
            "3281/3281 [==============================] - 0s 78us/step - loss: 1.0075 - categorical_accuracy: 0.5626 - val_loss: 1.1721 - val_categorical_accuracy: 0.4972\n",
            "Epoch 106/200\n",
            "3281/3281 [==============================] - 0s 82us/step - loss: 1.0139 - categorical_accuracy: 0.5690 - val_loss: 1.0648 - val_categorical_accuracy: 0.5257\n",
            "Epoch 107/200\n",
            "3281/3281 [==============================] - 0s 73us/step - loss: 0.9988 - categorical_accuracy: 0.5690 - val_loss: 1.0329 - val_categorical_accuracy: 0.5349\n",
            "Epoch 108/200\n",
            "3281/3281 [==============================] - 0s 74us/step - loss: 1.0069 - categorical_accuracy: 0.5632 - val_loss: 1.0131 - val_categorical_accuracy: 0.5393\n",
            "Epoch 109/200\n",
            "3281/3281 [==============================] - 0s 71us/step - loss: 1.0037 - categorical_accuracy: 0.5721 - val_loss: 1.0332 - val_categorical_accuracy: 0.5337\n",
            "Epoch 110/200\n",
            "3281/3281 [==============================] - 0s 70us/step - loss: 1.0156 - categorical_accuracy: 0.5629 - val_loss: 1.0271 - val_categorical_accuracy: 0.5436\n",
            "Epoch 111/200\n",
            "3281/3281 [==============================] - 0s 70us/step - loss: 1.0039 - categorical_accuracy: 0.5660 - val_loss: 1.0301 - val_categorical_accuracy: 0.5473\n",
            "Epoch 112/200\n",
            "3281/3281 [==============================] - 0s 73us/step - loss: 1.0010 - categorical_accuracy: 0.5635 - val_loss: 1.0360 - val_categorical_accuracy: 0.5374\n",
            "Epoch 113/200\n",
            "3281/3281 [==============================] - 0s 69us/step - loss: 1.0034 - categorical_accuracy: 0.5730 - val_loss: 1.0239 - val_categorical_accuracy: 0.5461\n",
            "Epoch 114/200\n",
            "3281/3281 [==============================] - 0s 71us/step - loss: 1.0120 - categorical_accuracy: 0.5608 - val_loss: 1.0727 - val_categorical_accuracy: 0.5238\n",
            "Epoch 115/200\n",
            "2624/3281 [======================>.......] - ETA: 0s - loss: 0.9996 - categorical_accuracy: 0.5762"
          ],
          "name": "stdout"
        },
        {
          "output_type": "stream",
          "text": [
            "3281/3281 [==============================] - 0s 75us/step - loss: 1.0028 - categorical_accuracy: 0.5736 - val_loss: 1.0283 - val_categorical_accuracy: 0.5560\n",
            "Epoch 116/200\n",
            "3281/3281 [==============================] - 0s 72us/step - loss: 1.0002 - categorical_accuracy: 0.5724 - val_loss: 1.1072 - val_categorical_accuracy: 0.4886\n",
            "Epoch 117/200\n",
            "3281/3281 [==============================] - 0s 73us/step - loss: 1.0071 - categorical_accuracy: 0.5611 - val_loss: 1.0543 - val_categorical_accuracy: 0.5238\n",
            "Epoch 118/200\n",
            "3281/3281 [==============================] - 0s 72us/step - loss: 0.9916 - categorical_accuracy: 0.5785 - val_loss: 1.0668 - val_categorical_accuracy: 0.5195\n",
            "Epoch 119/200\n",
            "3281/3281 [==============================] - 0s 77us/step - loss: 1.0007 - categorical_accuracy: 0.5645 - val_loss: 1.0436 - val_categorical_accuracy: 0.5485\n",
            "Epoch 120/200\n",
            "3281/3281 [==============================] - 0s 75us/step - loss: 1.0053 - categorical_accuracy: 0.5709 - val_loss: 1.0366 - val_categorical_accuracy: 0.5510\n",
            "Epoch 121/200\n",
            "3281/3281 [==============================] - 0s 82us/step - loss: 0.9967 - categorical_accuracy: 0.5730 - val_loss: 1.0639 - val_categorical_accuracy: 0.5405\n",
            "Epoch 122/200\n",
            "3281/3281 [==============================] - 0s 78us/step - loss: 0.9994 - categorical_accuracy: 0.5678 - val_loss: 1.0623 - val_categorical_accuracy: 0.5300\n",
            "Epoch 123/200\n",
            "3281/3281 [==============================] - 0s 78us/step - loss: 0.9930 - categorical_accuracy: 0.5730 - val_loss: 1.0827 - val_categorical_accuracy: 0.4954\n",
            "Epoch 124/200\n",
            "3281/3281 [==============================] - 0s 79us/step - loss: 0.9941 - categorical_accuracy: 0.5678 - val_loss: 1.0260 - val_categorical_accuracy: 0.5399\n",
            "Epoch 125/200\n",
            "3281/3281 [==============================] - 0s 72us/step - loss: 1.0083 - categorical_accuracy: 0.5712 - val_loss: 1.0238 - val_categorical_accuracy: 0.5492\n",
            "Epoch 126/200\n",
            "3281/3281 [==============================] - 0s 74us/step - loss: 0.9945 - categorical_accuracy: 0.5660 - val_loss: 1.0394 - val_categorical_accuracy: 0.5362\n",
            "Epoch 127/200\n",
            "3281/3281 [==============================] - 0s 72us/step - loss: 0.9932 - categorical_accuracy: 0.5733 - val_loss: 1.0427 - val_categorical_accuracy: 0.5411\n",
            "Epoch 128/200\n",
            "3281/3281 [==============================] - 0s 72us/step - loss: 0.9903 - categorical_accuracy: 0.5773 - val_loss: 1.1104 - val_categorical_accuracy: 0.5127\n",
            "Epoch 129/200\n",
            "1600/3281 [=============>................] - ETA: 0s - loss: 1.0199 - categorical_accuracy: 0.5756"
          ],
          "name": "stdout"
        },
        {
          "output_type": "stream",
          "text": [
            "3281/3281 [==============================] - 0s 79us/step - loss: 0.9970 - categorical_accuracy: 0.5776 - val_loss: 1.0267 - val_categorical_accuracy: 0.5498\n",
            "Epoch 130/200\n",
            "3281/3281 [==============================] - 0s 76us/step - loss: 1.0046 - categorical_accuracy: 0.5626 - val_loss: 1.1801 - val_categorical_accuracy: 0.4898\n",
            "Epoch 131/200\n",
            "3281/3281 [==============================] - 0s 78us/step - loss: 0.9862 - categorical_accuracy: 0.5763 - val_loss: 1.0480 - val_categorical_accuracy: 0.5269\n",
            "Epoch 132/200\n",
            "3281/3281 [==============================] - 0s 80us/step - loss: 0.9924 - categorical_accuracy: 0.5718 - val_loss: 1.0558 - val_categorical_accuracy: 0.5399\n",
            "Epoch 133/200\n",
            "3281/3281 [==============================] - 0s 74us/step - loss: 0.9826 - categorical_accuracy: 0.5788 - val_loss: 1.2211 - val_categorical_accuracy: 0.4873\n",
            "Epoch 134/200\n",
            "3281/3281 [==============================] - 0s 73us/step - loss: 0.9925 - categorical_accuracy: 0.5767 - val_loss: 1.1174 - val_categorical_accuracy: 0.5288\n",
            "Epoch 135/200\n",
            "3281/3281 [==============================] - 0s 72us/step - loss: 0.9893 - categorical_accuracy: 0.5715 - val_loss: 1.0401 - val_categorical_accuracy: 0.5411\n",
            "Epoch 136/200\n",
            "3281/3281 [==============================] - 0s 72us/step - loss: 0.9943 - categorical_accuracy: 0.5693 - val_loss: 1.0428 - val_categorical_accuracy: 0.5510\n",
            "Epoch 137/200\n",
            "3281/3281 [==============================] - 0s 70us/step - loss: 0.9950 - categorical_accuracy: 0.5763 - val_loss: 1.0349 - val_categorical_accuracy: 0.5560\n",
            "Epoch 138/200\n",
            "3281/3281 [==============================] - 0s 71us/step - loss: 1.0001 - categorical_accuracy: 0.5706 - val_loss: 1.0695 - val_categorical_accuracy: 0.5405\n",
            "Epoch 139/200\n",
            "3281/3281 [==============================] - 0s 73us/step - loss: 0.9859 - categorical_accuracy: 0.5681 - val_loss: 1.0130 - val_categorical_accuracy: 0.5393\n",
            "Epoch 140/200\n",
            "3281/3281 [==============================] - 0s 72us/step - loss: 0.9959 - categorical_accuracy: 0.5675 - val_loss: 1.0211 - val_categorical_accuracy: 0.5306\n",
            "Epoch 141/200\n",
            "3281/3281 [==============================] - 0s 71us/step - loss: 0.9878 - categorical_accuracy: 0.5739 - val_loss: 1.0350 - val_categorical_accuracy: 0.5417\n",
            "Epoch 142/200\n",
            "3281/3281 [==============================] - 0s 72us/step - loss: 0.9829 - categorical_accuracy: 0.5699 - val_loss: 1.0223 - val_categorical_accuracy: 0.5424\n",
            "Epoch 143/200\n",
            "3281/3281 [==============================] - 0s 69us/step - loss: 0.9860 - categorical_accuracy: 0.5791 - val_loss: 1.1686 - val_categorical_accuracy: 0.4861\n"
          ],
          "name": "stdout"
        },
        {
          "output_type": "stream",
          "text": [
            "Epoch 144/200\n",
            "3281/3281 [==============================] - 0s 69us/step - loss: 0.9973 - categorical_accuracy: 0.5672 - val_loss: 1.0336 - val_categorical_accuracy: 0.5479\n",
            "Epoch 145/200\n",
            "3281/3281 [==============================] - 0s 68us/step - loss: 0.9842 - categorical_accuracy: 0.5760 - val_loss: 1.0494 - val_categorical_accuracy: 0.5238\n",
            "Epoch 146/200\n",
            "3281/3281 [==============================] - 0s 69us/step - loss: 0.9819 - categorical_accuracy: 0.5770 - val_loss: 1.0408 - val_categorical_accuracy: 0.5207\n",
            "Epoch 147/200\n",
            "3281/3281 [==============================] - 0s 72us/step - loss: 0.9791 - categorical_accuracy: 0.5837 - val_loss: 1.0422 - val_categorical_accuracy: 0.5448\n",
            "Epoch 148/200\n",
            "3281/3281 [==============================] - 0s 80us/step - loss: 0.9846 - categorical_accuracy: 0.5821 - val_loss: 1.0496 - val_categorical_accuracy: 0.5380\n",
            "Epoch 149/200\n",
            "3281/3281 [==============================] - 0s 75us/step - loss: 0.9828 - categorical_accuracy: 0.5742 - val_loss: 1.0116 - val_categorical_accuracy: 0.5504\n",
            "Epoch 150/200\n",
            "3281/3281 [==============================] - 0s 75us/step - loss: 0.9838 - categorical_accuracy: 0.5733 - val_loss: 1.1675 - val_categorical_accuracy: 0.4954\n",
            "Epoch 151/200\n",
            "3281/3281 [==============================] - 0s 82us/step - loss: 0.9889 - categorical_accuracy: 0.5776 - val_loss: 1.0751 - val_categorical_accuracy: 0.5368\n",
            "Epoch 152/200\n",
            "3281/3281 [==============================] - 0s 78us/step - loss: 0.9761 - categorical_accuracy: 0.5739 - val_loss: 1.0688 - val_categorical_accuracy: 0.5275\n",
            "Epoch 153/200\n",
            "3281/3281 [==============================] - 0s 80us/step - loss: 0.9849 - categorical_accuracy: 0.5748 - val_loss: 1.0283 - val_categorical_accuracy: 0.5442\n",
            "Epoch 154/200\n",
            "3281/3281 [==============================] - 0s 78us/step - loss: 0.9844 - categorical_accuracy: 0.5663 - val_loss: 1.0360 - val_categorical_accuracy: 0.5405\n",
            "Epoch 155/200\n",
            "3281/3281 [==============================] - 0s 74us/step - loss: 0.9834 - categorical_accuracy: 0.5736 - val_loss: 1.0110 - val_categorical_accuracy: 0.5597\n",
            "Epoch 156/200\n",
            "3281/3281 [==============================] - 0s 89us/step - loss: 0.9841 - categorical_accuracy: 0.5776 - val_loss: 1.0124 - val_categorical_accuracy: 0.5436\n",
            "Epoch 157/200\n",
            "3281/3281 [==============================] - 0s 84us/step - loss: 0.9891 - categorical_accuracy: 0.5718 - val_loss: 1.0145 - val_categorical_accuracy: 0.5411\n"
          ],
          "name": "stdout"
        },
        {
          "output_type": "stream",
          "text": [
            "Epoch 158/200\n",
            "3281/3281 [==============================] - 0s 88us/step - loss: 0.9783 - categorical_accuracy: 0.5770 - val_loss: 1.0513 - val_categorical_accuracy: 0.5152\n",
            "Epoch 159/200\n",
            "3281/3281 [==============================] - 0s 87us/step - loss: 0.9799 - categorical_accuracy: 0.5818 - val_loss: 1.0426 - val_categorical_accuracy: 0.5300\n",
            "Epoch 160/200\n",
            "3281/3281 [==============================] - 0s 78us/step - loss: 0.9887 - categorical_accuracy: 0.5724 - val_loss: 1.0666 - val_categorical_accuracy: 0.5077\n",
            "Epoch 161/200\n",
            "3281/3281 [==============================] - 0s 72us/step - loss: 0.9891 - categorical_accuracy: 0.5712 - val_loss: 1.0350 - val_categorical_accuracy: 0.5362\n",
            "Epoch 162/200\n",
            "3281/3281 [==============================] - 0s 76us/step - loss: 0.9853 - categorical_accuracy: 0.5745 - val_loss: 1.0078 - val_categorical_accuracy: 0.5436\n",
            "Epoch 163/200\n",
            "3281/3281 [==============================] - 0s 79us/step - loss: 0.9840 - categorical_accuracy: 0.5754 - val_loss: 1.0578 - val_categorical_accuracy: 0.5300\n",
            "Epoch 164/200\n",
            "3281/3281 [==============================] - 0s 80us/step - loss: 0.9842 - categorical_accuracy: 0.5770 - val_loss: 1.0175 - val_categorical_accuracy: 0.5405\n",
            "Epoch 165/200\n",
            "3281/3281 [==============================] - 0s 78us/step - loss: 0.9853 - categorical_accuracy: 0.5763 - val_loss: 1.0250 - val_categorical_accuracy: 0.5584\n",
            "Epoch 166/200\n",
            "3281/3281 [==============================] - 0s 75us/step - loss: 0.9837 - categorical_accuracy: 0.5757 - val_loss: 1.0161 - val_categorical_accuracy: 0.5572\n",
            "Epoch 167/200\n",
            "3281/3281 [==============================] - 0s 80us/step - loss: 0.9785 - categorical_accuracy: 0.5776 - val_loss: 1.0122 - val_categorical_accuracy: 0.5455\n",
            "Epoch 168/200\n",
            "3281/3281 [==============================] - 0s 79us/step - loss: 0.9742 - categorical_accuracy: 0.5788 - val_loss: 1.0263 - val_categorical_accuracy: 0.5572\n",
            "Epoch 169/200\n",
            "3281/3281 [==============================] - 0s 82us/step - loss: 0.9713 - categorical_accuracy: 0.5760 - val_loss: 1.1160 - val_categorical_accuracy: 0.5176\n",
            "Epoch 170/200\n",
            "3281/3281 [==============================] - 0s 79us/step - loss: 0.9712 - categorical_accuracy: 0.5770 - val_loss: 1.0431 - val_categorical_accuracy: 0.5294\n",
            "Epoch 171/200\n",
            "3281/3281 [==============================] - 0s 76us/step - loss: 0.9779 - categorical_accuracy: 0.5861 - val_loss: 1.0384 - val_categorical_accuracy: 0.5220\n"
          ],
          "name": "stdout"
        },
        {
          "output_type": "stream",
          "text": [
            "Epoch 172/200\n",
            "3281/3281 [==============================] - 0s 78us/step - loss: 0.9824 - categorical_accuracy: 0.5721 - val_loss: 1.0321 - val_categorical_accuracy: 0.5442\n",
            "Epoch 173/200\n",
            "3281/3281 [==============================] - 0s 77us/step - loss: 0.9876 - categorical_accuracy: 0.5684 - val_loss: 1.0171 - val_categorical_accuracy: 0.5337\n",
            "Epoch 174/200\n",
            "3281/3281 [==============================] - 0s 80us/step - loss: 0.9750 - categorical_accuracy: 0.5824 - val_loss: 1.0111 - val_categorical_accuracy: 0.5646\n",
            "Epoch 175/200\n",
            "3281/3281 [==============================] - 0s 73us/step - loss: 0.9744 - categorical_accuracy: 0.5800 - val_loss: 1.0437 - val_categorical_accuracy: 0.5318\n",
            "Epoch 176/200\n",
            "3281/3281 [==============================] - 0s 76us/step - loss: 0.9736 - categorical_accuracy: 0.5824 - val_loss: 1.0717 - val_categorical_accuracy: 0.5176\n",
            "Epoch 177/200\n",
            "3281/3281 [==============================] - 0s 78us/step - loss: 0.9672 - categorical_accuracy: 0.5843 - val_loss: 1.0846 - val_categorical_accuracy: 0.5145\n",
            "Epoch 178/200\n",
            "3281/3281 [==============================] - 0s 76us/step - loss: 0.9673 - categorical_accuracy: 0.5779 - val_loss: 1.0757 - val_categorical_accuracy: 0.5170\n",
            "Epoch 179/200\n",
            "3281/3281 [==============================] - 0s 74us/step - loss: 0.9811 - categorical_accuracy: 0.5727 - val_loss: 1.0583 - val_categorical_accuracy: 0.5220\n",
            "Epoch 180/200\n",
            "3281/3281 [==============================] - 0s 75us/step - loss: 0.9767 - categorical_accuracy: 0.5754 - val_loss: 1.0255 - val_categorical_accuracy: 0.5362\n",
            "Epoch 181/200\n",
            "3281/3281 [==============================] - 0s 81us/step - loss: 0.9696 - categorical_accuracy: 0.5834 - val_loss: 1.1116 - val_categorical_accuracy: 0.5121\n",
            "Epoch 182/200\n",
            "3281/3281 [==============================] - 0s 78us/step - loss: 0.9719 - categorical_accuracy: 0.5757 - val_loss: 1.0934 - val_categorical_accuracy: 0.5127\n",
            "Epoch 183/200\n",
            "3281/3281 [==============================] - 0s 78us/step - loss: 0.9719 - categorical_accuracy: 0.5782 - val_loss: 1.0073 - val_categorical_accuracy: 0.5455\n",
            "Epoch 184/200\n",
            "3281/3281 [==============================] - 0s 80us/step - loss: 0.9717 - categorical_accuracy: 0.5797 - val_loss: 1.0553 - val_categorical_accuracy: 0.5306\n",
            "Epoch 185/200\n",
            "3281/3281 [==============================] - 0s 73us/step - loss: 0.9618 - categorical_accuracy: 0.5888 - val_loss: 1.0386 - val_categorical_accuracy: 0.5331\n",
            "Epoch 186/200\n",
            "  64/3281 [..............................] - ETA: 0s - loss: 0.9867 - categorical_accuracy: 0.5625"
          ],
          "name": "stdout"
        },
        {
          "output_type": "stream",
          "text": [
            "3281/3281 [==============================] - 0s 78us/step - loss: 0.9694 - categorical_accuracy: 0.5770 - val_loss: 1.0228 - val_categorical_accuracy: 0.5560\n",
            "Epoch 187/200\n",
            "3281/3281 [==============================] - 0s 81us/step - loss: 0.9668 - categorical_accuracy: 0.5837 - val_loss: 1.0386 - val_categorical_accuracy: 0.5312\n",
            "Epoch 188/200\n",
            "3281/3281 [==============================] - 0s 73us/step - loss: 0.9702 - categorical_accuracy: 0.5733 - val_loss: 1.0645 - val_categorical_accuracy: 0.5448\n",
            "Epoch 189/200\n",
            "3281/3281 [==============================] - 0s 76us/step - loss: 0.9662 - categorical_accuracy: 0.5791 - val_loss: 1.0162 - val_categorical_accuracy: 0.5498\n",
            "Epoch 190/200\n",
            "3281/3281 [==============================] - 0s 81us/step - loss: 0.9675 - categorical_accuracy: 0.5767 - val_loss: 1.0321 - val_categorical_accuracy: 0.5467\n",
            "Epoch 191/200\n",
            "3281/3281 [==============================] - 0s 79us/step - loss: 0.9667 - categorical_accuracy: 0.5840 - val_loss: 1.0489 - val_categorical_accuracy: 0.5362\n",
            "Epoch 192/200\n",
            "3281/3281 [==============================] - 0s 81us/step - loss: 0.9743 - categorical_accuracy: 0.5776 - val_loss: 1.0201 - val_categorical_accuracy: 0.5436\n",
            "Epoch 193/200\n",
            "3281/3281 [==============================] - 0s 84us/step - loss: 0.9685 - categorical_accuracy: 0.5770 - val_loss: 1.0987 - val_categorical_accuracy: 0.5263\n",
            "Epoch 194/200\n",
            "3281/3281 [==============================] - 0s 76us/step - loss: 0.9616 - categorical_accuracy: 0.5800 - val_loss: 1.0290 - val_categorical_accuracy: 0.5442\n",
            "Epoch 195/200\n",
            "3281/3281 [==============================] - 0s 81us/step - loss: 0.9607 - categorical_accuracy: 0.5818 - val_loss: 1.0144 - val_categorical_accuracy: 0.5417\n",
            "Epoch 196/200\n",
            "3281/3281 [==============================] - 0s 74us/step - loss: 0.9671 - categorical_accuracy: 0.5812 - val_loss: 1.0214 - val_categorical_accuracy: 0.5473\n",
            "Epoch 197/200\n",
            "3281/3281 [==============================] - 0s 75us/step - loss: 0.9692 - categorical_accuracy: 0.5806 - val_loss: 1.0344 - val_categorical_accuracy: 0.5492\n",
            "Epoch 198/200\n",
            "3281/3281 [==============================] - 0s 76us/step - loss: 0.9726 - categorical_accuracy: 0.5806 - val_loss: 1.0617 - val_categorical_accuracy: 0.5306\n",
            "Epoch 199/200\n",
            "2944/3281 [=========================>....] - ETA: 0s - loss: 0.9556 - categorical_accuracy: 0.5893"
          ],
          "name": "stdout"
        },
        {
          "output_type": "stream",
          "text": [
            "3281/3281 [==============================] - 0s 85us/step - loss: 0.9670 - categorical_accuracy: 0.5849 - val_loss: 1.0789 - val_categorical_accuracy: 0.5164\n",
            "Epoch 200/200\n",
            "3281/3281 [==============================] - 0s 84us/step - loss: 0.9770 - categorical_accuracy: 0.5815 - val_loss: 1.0199 - val_categorical_accuracy: 0.5325\n"
          ],
          "name": "stdout"
        },
        {
          "output_type": "execute_result",
          "data": {
            "text/plain": [
              "<keras.callbacks.History at 0x7fc336c88160>"
            ]
          },
          "metadata": {
            "tags": []
          },
          "execution_count": 93
        }
      ]
    },
    {
      "metadata": {
        "id": "xymik-f7BxJ8",
        "colab_type": "code",
        "colab": {
          "autoexec": {
            "startup": false,
            "wait_interval": 0
          },
          "base_uri": "https://localhost:8080/",
          "height": 90
        },
        "outputId": "0e3acc67-02c0-47d7-fea2-46eca4158c13",
        "executionInfo": {
          "status": "ok",
          "timestamp": 1527047366628,
          "user_tz": 420,
          "elapsed": 364,
          "user": {
            "displayName": "Aravind Shanmugam",
            "photoUrl": "//lh6.googleusercontent.com/-_XjpUosSEHA/AAAAAAAAAAI/AAAAAAAABA0/uAWQVyYb8sg/s50-c-k-no/photo.jpg",
            "userId": "112465109968057340331"
          }
        }
      },
      "cell_type": "code",
      "source": [
        "preds = winemod1.evaluate(x = test_data, y = test_value)\n",
        "print()\n",
        "print (\"Loss = \" + str(preds[0]))\n",
        "print (\"Test Accuracy = \" + str(preds[1]))"
      ],
      "execution_count": 94,
      "outputs": [
        {
          "output_type": "stream",
          "text": [
            "1617/1617 [==============================] - 0s 42us/step\n",
            "\n",
            "Loss = 1.019853695204174\n",
            "Test Accuracy = 0.5324675325228243\n"
          ],
          "name": "stdout"
        }
      ]
    },
    {
      "metadata": {
        "id": "46LsHMUmGcnb",
        "colab_type": "text"
      },
      "cell_type": "markdown",
      "source": [
        "This was the result of using PCA on the input data with 10 components Accuracy = 0.3939393940315471. \n",
        "\n",
        "PCA did not improve the performance of the solution. This maybe due to the class imbalance problem.\n",
        "\n",
        "If the classifier was trained on the classes separated then will get more accuracy."
      ]
    },
    {
      "metadata": {
        "id": "bow6t2v5HdKl",
        "colab_type": "text"
      },
      "cell_type": "markdown",
      "source": [
        "This the accuracy without doing PCA Test Accuracy = 0.5324675325228243\n"
      ]
    },
    {
      "metadata": {
        "id": "RpWcJhmtH6VJ",
        "colab_type": "text"
      },
      "cell_type": "markdown",
      "source": [
        "**Linear Regression**"
      ]
    },
    {
      "metadata": {
        "id": "VJ65iQ97C1Og",
        "colab_type": "code",
        "colab": {
          "autoexec": {
            "startup": false,
            "wait_interval": 0
          }
        }
      },
      "cell_type": "code",
      "source": [
        "from sklearn import linear_model\n",
        "lin_reg_model = linear_model.LinearRegression()"
      ],
      "execution_count": 0,
      "outputs": []
    },
    {
      "metadata": {
        "id": "-i-ZqRBCIU0R",
        "colab_type": "code",
        "colab": {
          "autoexec": {
            "startup": false,
            "wait_interval": 0
          },
          "base_uri": "https://localhost:8080/",
          "height": 35
        },
        "outputId": "859cc0d7-f7b7-4fc6-aa0a-c5a0204d1838",
        "executionInfo": {
          "status": "ok",
          "timestamp": 1527048016857,
          "user_tz": 420,
          "elapsed": 370,
          "user": {
            "displayName": "Aravind Shanmugam",
            "photoUrl": "//lh6.googleusercontent.com/-_XjpUosSEHA/AAAAAAAAAAI/AAAAAAAABA0/uAWQVyYb8sg/s50-c-k-no/photo.jpg",
            "userId": "112465109968057340331"
          }
        }
      },
      "cell_type": "code",
      "source": [
        "lin_reg_model.fit(train_data,train_value)"
      ],
      "execution_count": 97,
      "outputs": [
        {
          "output_type": "execute_result",
          "data": {
            "text/plain": [
              "LinearRegression(copy_X=True, fit_intercept=True, n_jobs=1, normalize=False)"
            ]
          },
          "metadata": {
            "tags": []
          },
          "execution_count": 97
        }
      ]
    },
    {
      "metadata": {
        "id": "zzOJ1XkJJ3at",
        "colab_type": "code",
        "colab": {
          "autoexec": {
            "startup": false,
            "wait_interval": 0
          }
        }
      },
      "cell_type": "code",
      "source": [
        "predictions = lin_reg_model.predict(test_data)"
      ],
      "execution_count": 0,
      "outputs": []
    },
    {
      "metadata": {
        "id": "4iGni8cnJ8Sg",
        "colab_type": "code",
        "colab": {
          "autoexec": {
            "startup": false,
            "wait_interval": 0
          },
          "base_uri": "https://localhost:8080/",
          "height": 254
        },
        "outputId": "da1810f2-8236-4c9f-a179-fb3b41c82bd9",
        "executionInfo": {
          "status": "ok",
          "timestamp": 1527048036758,
          "user_tz": 420,
          "elapsed": 355,
          "user": {
            "displayName": "Aravind Shanmugam",
            "photoUrl": "//lh6.googleusercontent.com/-_XjpUosSEHA/AAAAAAAAAAI/AAAAAAAABA0/uAWQVyYb8sg/s50-c-k-no/photo.jpg",
            "userId": "112465109968057340331"
          }
        }
      },
      "cell_type": "code",
      "source": [
        "predictions"
      ],
      "execution_count": 99,
      "outputs": [
        {
          "output_type": "execute_result",
          "data": {
            "text/plain": [
              "array([[-0.04089617,  0.18397974,  0.48386163,  0.29545525,  0.08222256,\n",
              "         0.00121442],\n",
              "       [ 0.06346587,  0.09765265,  0.33559971,  0.39448406,  0.10804714,\n",
              "         0.00262623],\n",
              "       [ 0.01243089,  0.05456759,  0.50560772,  0.33783705,  0.0749814 ,\n",
              "         0.00649621],\n",
              "       ...,\n",
              "       [ 0.03007114,  0.26865258,  0.54157182,  0.13943574,  0.02189129,\n",
              "        -0.00117166],\n",
              "       [ 0.04818257,  0.19727851,  0.44744237,  0.22957854,  0.0640984 ,\n",
              "         0.00191709],\n",
              "       [ 0.01813024,  0.33529246,  0.44269534,  0.17562613,  0.0263294 ,\n",
              "        -0.00064537]])"
            ]
          },
          "metadata": {
            "tags": []
          },
          "execution_count": 99
        }
      ]
    },
    {
      "metadata": {
        "id": "sme8EKCXJ9-w",
        "colab_type": "code",
        "colab": {
          "autoexec": {
            "startup": false,
            "wait_interval": 0
          },
          "base_uri": "https://localhost:8080/",
          "height": 145
        },
        "outputId": "c95294fd-8021-4dd7-8f2f-84bd908a0b89",
        "executionInfo": {
          "status": "ok",
          "timestamp": 1527048592589,
          "user_tz": 420,
          "elapsed": 416,
          "user": {
            "displayName": "Aravind Shanmugam",
            "photoUrl": "//lh6.googleusercontent.com/-_XjpUosSEHA/AAAAAAAAAAI/AAAAAAAABA0/uAWQVyYb8sg/s50-c-k-no/photo.jpg",
            "userId": "112465109968057340331"
          }
        }
      },
      "cell_type": "code",
      "source": [
        "classified = np.zeros_like(predictions)\n",
        "classified[np.arange(len(predictions)), predictions.argmax(1)] = 1\n",
        "classified"
      ],
      "execution_count": 102,
      "outputs": [
        {
          "output_type": "execute_result",
          "data": {
            "text/plain": [
              "array([[0., 0., 1., 0., 0., 0.],\n",
              "       [0., 0., 0., 1., 0., 0.],\n",
              "       [0., 0., 1., 0., 0., 0.],\n",
              "       ...,\n",
              "       [0., 0., 1., 0., 0., 0.],\n",
              "       [0., 0., 1., 0., 0., 0.],\n",
              "       [0., 0., 1., 0., 0., 0.]])"
            ]
          },
          "metadata": {
            "tags": []
          },
          "execution_count": 102
        }
      ]
    },
    {
      "metadata": {
        "id": "shQG-N7gKgNk",
        "colab_type": "code",
        "colab": {
          "autoexec": {
            "startup": false,
            "wait_interval": 0
          }
        }
      },
      "cell_type": "code",
      "source": [
        "tvalue = np.array(test_value)"
      ],
      "execution_count": 0,
      "outputs": []
    },
    {
      "metadata": {
        "id": "YBMbxsp4M2Q8",
        "colab_type": "code",
        "colab": {
          "autoexec": {
            "startup": false,
            "wait_interval": 0
          }
        }
      },
      "cell_type": "code",
      "source": [
        "classified = np.array(classified)"
      ],
      "execution_count": 0,
      "outputs": []
    },
    {
      "metadata": {
        "id": "Vr15TaeXNQ6F",
        "colab_type": "code",
        "colab": {
          "autoexec": {
            "startup": false,
            "wait_interval": 0
          }
        }
      },
      "cell_type": "code",
      "source": [
        "from sklearn import metrics"
      ],
      "execution_count": 0,
      "outputs": []
    },
    {
      "metadata": {
        "id": "ByZBqHfkQNyC",
        "colab_type": "code",
        "colab": {
          "autoexec": {
            "startup": false,
            "wait_interval": 0
          }
        }
      },
      "cell_type": "code",
      "source": [
        "score = metrics.r2_score(tvalue,classified)"
      ],
      "execution_count": 0,
      "outputs": []
    },
    {
      "metadata": {
        "id": "ihjGKblYQVdr",
        "colab_type": "code",
        "colab": {
          "autoexec": {
            "startup": false,
            "wait_interval": 0
          },
          "base_uri": "https://localhost:8080/",
          "height": 35
        },
        "outputId": "87c4a61e-2e19-4acf-a007-85a980cc92cc",
        "executionInfo": {
          "status": "ok",
          "timestamp": 1527049723660,
          "user_tz": 420,
          "elapsed": 363,
          "user": {
            "displayName": "Aravind Shanmugam",
            "photoUrl": "//lh6.googleusercontent.com/-_XjpUosSEHA/AAAAAAAAAAI/AAAAAAAABA0/uAWQVyYb8sg/s50-c-k-no/photo.jpg",
            "userId": "112465109968057340331"
          }
        }
      },
      "cell_type": "code",
      "source": [
        "score"
      ],
      "execution_count": 111,
      "outputs": [
        {
          "output_type": "execute_result",
          "data": {
            "text/plain": [
              "-0.04525182220445245"
            ]
          },
          "metadata": {
            "tags": []
          },
          "execution_count": 111
        }
      ]
    },
    {
      "metadata": {
        "id": "ZR76JHfJQZzl",
        "colab_type": "code",
        "colab": {
          "autoexec": {
            "startup": false,
            "wait_interval": 0
          }
        }
      },
      "cell_type": "code",
      "source": [
        ""
      ],
      "execution_count": 0,
      "outputs": []
    }
  ]
}